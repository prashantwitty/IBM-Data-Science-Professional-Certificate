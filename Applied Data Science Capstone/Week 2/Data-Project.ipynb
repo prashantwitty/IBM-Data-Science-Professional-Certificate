{
 "cells": [
  {
   "cell_type": "markdown",
   "metadata": {},
   "source": [
    "# Data required"
   ]
  },
  {
   "cell_type": "markdown",
   "metadata": {},
   "source": [
    "In order to create an accurate model we are going to need a dataset that consists lots of observation and a variety of different attributes."
   ]
  },
  {
   "cell_type": "markdown",
   "metadata": {},
   "source": [
    "I am going to use the dataset provided by the IBM capstone project, which is quite interesting.\n",
    "Indicatively, very useful data for our analysis will be data about the location, the description of the severity, the number of fatalitites and injuries, the date and time, the category of junction,the collision code, the driver's condition, the weather, the road condition etc. \n",
    "\n",
    "All these observations might give us very useful information to possibly observe pattern and trends."
   ]
  },
  {
   "cell_type": "code",
   "execution_count": null,
   "metadata": {},
   "outputs": [],
   "source": []
  }
 ],
 "metadata": {
  "kernelspec": {
   "display_name": "Python 3",
   "language": "python",
   "name": "python3"
  },
  "language_info": {
   "codemirror_mode": {
    "name": "ipython",
    "version": 3
   },
   "file_extension": ".py",
   "mimetype": "text/x-python",
   "name": "python",
   "nbconvert_exporter": "python",
   "pygments_lexer": "ipython3",
   "version": "3.7.7"
  }
 },
 "nbformat": 4,
 "nbformat_minor": 4
}
